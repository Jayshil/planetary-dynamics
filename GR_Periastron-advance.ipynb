{
 "cells": [
  {
   "cell_type": "markdown",
   "id": "transparent-friend",
   "metadata": {},
   "source": [
    "# General relativity and periastron advance "
   ]
  },
  {
   "cell_type": "markdown",
   "id": "abandoned-anxiety",
   "metadata": {},
   "source": [
    "In this notebook, you are asked to put in evidence the periastron advance due to the perturbation of a planet's keplerian orbit by the General relativity correction. \n",
    "\n",
    "To do so, you can follow these steps: \n",
    "+ Integrate a single-planet system with the pure keplerian formalism. \n",
    "+ Integrate this same system with the GR module added. \n",
    "+ Repeat step 2 for a smaller semi-major axis. \n",
    "+ Repeat step 2 with a smaller eccentricity. \n",
    "\n",
    "For each of these integrations, record the argument of periastron at regular outputs. Then, plot the temporal evolution of the argument of periastron - integrate each system over 1 century. \n",
    "\n",
    "You are free to choose your system parameters. As optional guidelines, you can take for step 1: a=0.05 AU and e = 0.4 \n",
    "\n",
    "Here below are the modules you need to import (if you use REBOUND): "
   ]
  },
  {
   "cell_type": "code",
   "execution_count": null,
   "id": "supported-africa",
   "metadata": {},
   "outputs": [],
   "source": [
    "import math \n",
    "import numpy as np\n",
    "from matplotlib import pyplot as plt\n",
    "\n",
    "# If you use the REBOUND package to integrate the equations of motion, you need the following line: \n",
    "import rebound \n",
    "# Installation instructions at https://rebound.readthedocs.io/en/latest/quickstart_installation/ \n",
    "import reboundx\n",
    "# Installation instructions at https://reboundx.readthedocs.io/en/latest/python_quickstart.html\n",
    "from reboundx import constants"
   ]
  },
  {
   "cell_type": "markdown",
   "id": "optional-charter",
   "metadata": {},
   "source": [
    "The command lines to initialize the GR module is: "
   ]
  },
  {
   "cell_type": "code",
   "execution_count": null,
   "id": "nutritional-slave",
   "metadata": {},
   "outputs": [],
   "source": [
    "##*************** PARTIE REBOUNDX ****************\n",
    "rebx = reboundx.Extras(sim)\n",
    "gr = rebx.load_force(\"gr\")\n",
    "rebx.add_force(gr)\n",
    "gr.params[\"c\"] = constants.C\n",
    "##************************************************"
   ]
  },
  {
   "cell_type": "markdown",
   "id": "agricultural-society",
   "metadata": {},
   "source": [
    "It has to be inserted after the simulation initialization and before the integration. You find the model script here below: "
   ]
  },
  {
   "cell_type": "code",
   "execution_count": null,
   "id": "royal-latex",
   "metadata": {},
   "outputs": [],
   "source": [
    "sim = rebound.Simulation()\n",
    "sim.add(...) # The star \n",
    "sim.add(...) # The planet \n",
    "\n",
    "dt = 1.0*2*math.pi / 5000.\n",
    "sim.dt = dt\n",
    "sim.integrator = \"whfast\"\n",
    "\n",
    "T_integ = 100 # 1 century  \n",
    "\n",
    "##*************** PARTIE REBOUNDX ****************\n",
    "rebx = reboundx.Extras(sim)\n",
    "gr = rebx.load_force(\"gr\")\n",
    "rebx.add_force(gr)\n",
    "gr.params[\"c\"] = constants.C\n",
    "##************************************************\n",
    "\n",
    "# Now, integrate the system and save the results in a vector (or anything else): \n",
    "Nb_Outputs = int(1000)\n",
    "w = np.zeros(Nb_Outputs) \n",
    "t = np.zeros(Nb_Outputs) \n",
    "\n",
    "for j in range(Nb_Outputs):\n",
    "    t_output = ???*(j+1)*dt # Replace ??? by the proper number to integrate 100 years, knowing dt and Nb_Outputs \n",
    "    sim.integrate(t_output, exact_finish_time=0) \n",
    "    t[j] = t_output / (2*math.pi) # Time in years \n",
    "    w[j] = sim.particles[1].omega # Caution: this angle is in radians! "
   ]
  }
 ],
 "metadata": {
  "kernelspec": {
   "display_name": "Python 3",
   "language": "python",
   "name": "python3"
  },
  "language_info": {
   "codemirror_mode": {
    "name": "ipython",
    "version": 3
   },
   "file_extension": ".py",
   "mimetype": "text/x-python",
   "name": "python",
   "nbconvert_exporter": "python",
   "pygments_lexer": "ipython3",
   "version": "3.7.6"
  }
 },
 "nbformat": 4,
 "nbformat_minor": 5
}
