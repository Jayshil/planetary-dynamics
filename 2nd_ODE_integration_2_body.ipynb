{
 "cells": [
  {
   "cell_type": "markdown",
   "metadata": {},
   "source": [
    "# Euler's integration\n",
    "\n",
    "We are going to look at how Euler's integration performs at the integration of the 2nd order ODE governing the evolution of a planet on a circular orbit.\n",
    "This problem can be simplified as two first order ODEs:\n",
    "\n",
    "\\begin{equation}\n",
    "\\begin{split}\n",
    "\\frac{\\mathrm{d} x}{\\mathrm{d} t}\t& = u \\\\\n",
    "\\frac{\\mathrm{d} u}{\\mathrm{d} t}\t& = - \\frac{\\mu}{(x^2+y^2)^{3/2}} x,\n",
    "\\end{split}\n",
    "\\end{equation}\n",
    "where $x$ and $u$ are the position and velocity along the x-coordinates, while $y$ and $v$ are the position and velocity along the y-coordinates.\n",
    "\n",
    "And Euler's integration for this system yields, using a discrete notation\n",
    "\\begin{equation}\n",
    "\\begin{split}\n",
    "x_{n+1} &= x_n + u_n\\Delta t \\\\\n",
    "u_{n+1} &= u_n - \\frac{\\mu}{(x_n^2+y_n^2)^{3/2}} x_n \\Delta t.\n",
    "\\end{split}\n",
    "\\end{equation}\n",
    "Similarly, \n",
    "\\begin{equation}\n",
    "\\begin{split}\n",
    "y_{n+1} &= y_n + v_n\\Delta t \\\\\n",
    "v_{n+1} &= v_n - \\frac{\\mu}{(x_n^2+y_n^2)^{3/2}} y_n \\Delta t.\n",
    "\\end{split}\n",
    "\\end{equation}\n",
    "\n",
    "\n"
   ]
  },
  {
   "cell_type": "code",
   "execution_count": null,
   "metadata": {},
   "outputs": [],
   "source": [
    "import numpy as np\n",
    "import matplotlib.pyplot as plt"
   ]
  },
  {
   "cell_type": "markdown",
   "metadata": {},
   "source": [
    "Let us define the function of the exact solution (which we know !)\n",
    "\n",
    "Here $\\omega = n = \\mu/a^3$, where $a$ is the semi-major axis"
   ]
  },
  {
   "cell_type": "code",
   "execution_count": null,
   "metadata": {},
   "outputs": [],
   "source": [
    "# Exact solution for the x coordinate of the position\n",
    "def position_x(a, t, omega):\n",
    "    return a * np.cos(omega * t)\n",
    "def position_y(a, t, omega):\n",
    "    return a * np.sin(omega * t)\n",
    "# Exact solution for the x coordinate of the velocity\n",
    "def velocity_x(a, t, omega):\n",
    "    return - a * omega * np.sin(omega * t)\n",
    "def velocity_y(a, t, omega):\n",
    "    return a * omega * np.cos(omega * t)"
   ]
  },
  {
   "cell_type": "markdown",
   "metadata": {},
   "source": [
    "Let us define the 4 derivatives"
   ]
  },
  {
   "cell_type": "code",
   "execution_count": null,
   "metadata": {},
   "outputs": [],
   "source": [
    "# Velocities for the 2 components\n",
    "def dx_dt(x, y, u, v):\n",
    "    return u\n",
    "def dy_dt(x, y, u, v):\n",
    "    return v\n",
    "\n",
    "# Accelerations for the 2 components\n",
    "def du_dt(x, y, u, v, mu):\n",
    "    omega_squared = mu/np.power(x*x + y*y, 3./2.)\n",
    "    return - omega_squared * x\n",
    "def dv_dt(x, y, u, v, mu):\n",
    "    omega_squared = mu/np.power(x*x + y*y, 3./2.)\n",
    "    return - omega_squared * y"
   ]
  },
  {
   "cell_type": "markdown",
   "metadata": {},
   "source": [
    "Now let us define an evolver function, which will perform the Euler integration. We want to keep in memory the solution x(t), v(t) and the time t to later plot the result and compare it to the exact solution"
   ]
  },
  {
   "cell_type": "code",
   "execution_count": null,
   "metadata": {},
   "outputs": [],
   "source": [
    "def evolve_Euler(x0, y0, u0, v0,  mu, dt, N_steps):\n",
    "    xe = np.zeros((N_steps + 1))\n",
    "    ue = np.zeros((N_steps + 1))\n",
    "    ye = np.zeros((N_steps + 1))\n",
    "    ve = np.zeros((N_steps + 1))\n",
    "    te = np.zeros((N_steps + 1))\n",
    "\n",
    "    xe[0], ye[0] = x0, y0\n",
    "    ue[0], ve[0], te[0] = u0, v0, 0\n",
    "    \n",
    "    print(\"now is time to work\")\n",
    "    for i in range(N_steps):\n",
    "        xe[i+1] = # write here\n",
    "        ye[i+1] = # write here\n",
    "        ue[i+1] = # write here\n",
    "        ve[i+1] = # write here\n",
    "        te[i+1] = te[i] + dt\n",
    "    return te, xe, ye, ue, ve"
   ]
  },
  {
   "cell_type": "markdown",
   "metadata": {},
   "source": [
    "Now let's define the initial conditions.\n",
    "And compute both an array with the exact solution and 2 arrays with the integration results."
   ]
  },
  {
   "cell_type": "code",
   "execution_count": null,
   "metadata": {},
   "outputs": [],
   "source": [
    "Time_max = 10\n",
    "\n",
    "# Initial conditions for the integration\n",
    "mu = 1.0\n",
    "x0, y0 = 1.0, 0.0\n",
    "u0, v0 = 0.0, 1.0\n",
    "dt = 0.001\n",
    "\n",
    "N_steps = int(Time_max/float(dt))\n",
    "\n",
    "# Computation of the Euler's integration\n",
    "te, xe, ye, ue, ve = evolve_Euler(x0, y0, u0, v0,  mu, dt, N_steps)\n",
    "\n",
    "# Computation of the exact solution\n",
    "omega = np.sqrt(mu/np.power(x0*x0+y0*y0, 3./2.))\n",
    "\n",
    "exact_solution_x  = [position_x(x0, tt, omega) for tt in te]\n",
    "exact_solution_y  = [position_y(x0, tt, omega) for tt in te]\n",
    "exact_solution_u  = [velocity_x(x0, tt, omega) for tt in te]\n",
    "exact_solution_v  = [velocity_y(x0, tt, omega) for tt in te]\n"
   ]
  },
  {
   "cell_type": "markdown",
   "metadata": {},
   "source": [
    "Now let's plot both the exact solution and the integration result"
   ]
  },
  {
   "cell_type": "code",
   "execution_count": null,
   "metadata": {
    "scrolled": false
   },
   "outputs": [],
   "source": [
    "fig = plt.figure(figsize=(16, 16))\n",
    "ax = fig.add_subplot(2,1,1)\n",
    "\n",
    "line, = ax.plot(te, xe, '--', label=\"x, Euler, dt = %.2f\" %dt)\n",
    "ax.plot(te, exact_solution_x, '-', c=line.get_color(), label=\"x exact\")\n",
    "line, = ax.plot(te, ye, '--', label=\"y, Euler, dt = %.2f\" %dt)\n",
    "ax.plot(te, exact_solution_y, '-', c=line.get_color(), label=\"y exact\")\n",
    "\n",
    "ax.set_ylim([-1.5,1.5])\n",
    "ax.set_ylabel(\"x, y\")\n",
    "ax.legend(loc=0, prop={'size':10})\n",
    "\n",
    "ax = fig.add_subplot(2,1,2, sharex=ax)\n",
    "\n",
    "line, = ax.plot(te, ue, '--', label=\"u, Euler, dt = %.2f\" %dt)\n",
    "ax.plot(te, exact_solution_u, '-', c=line.get_color(), label=\"vx exact\")\n",
    "line, = ax.plot(te, ve, '--', label=\"v, Euler, dt = %.2f\" %dt)\n",
    "ax.plot(te, exact_solution_v, '-', c=line.get_color(), label=\"vy exact\")\n",
    "\n",
    "ax.set_ylim([-1.5,1.5])\n",
    "ax.set_ylabel(\"u, v\")\n",
    "ax.set_xlabel(\"Time\")\n",
    "ax.legend(loc=0, prop={'size':10})"
   ]
  },
  {
   "cell_type": "markdown",
   "metadata": {},
   "source": [
    "Let's evolve it a bit more"
   ]
  },
  {
   "cell_type": "code",
   "execution_count": null,
   "metadata": {},
   "outputs": [],
   "source": [
    "Time_max = 100\n",
    "N_steps = int(Time_max/float(dt))\n",
    "\n",
    "# Computation of the Euler's integration\n",
    "te, xe, ye, ue, ve = evolve_Euler(x0, y0, u0, v0,  mu, dt, N_steps)\n",
    "\n",
    "# Computation of the exact solution\n",
    "exact_solution_x  = [position_x(x0, tt, omega) for tt in te]\n",
    "exact_solution_y  = [position_y(x0, tt, omega) for tt in te]\n",
    "exact_solution_u  = [velocity_x(x0, tt, omega) for tt in te]\n",
    "exact_solution_v  = [velocity_y(x0, tt, omega) for tt in te]"
   ]
  },
  {
   "cell_type": "markdown",
   "metadata": {},
   "source": [
    "And plot"
   ]
  },
  {
   "cell_type": "code",
   "execution_count": null,
   "metadata": {},
   "outputs": [],
   "source": [
    "fig = plt.figure(figsize=(16, 16))\n",
    "ax = fig.add_subplot(2,1,1)\n",
    "\n",
    "line, = ax.plot(te, xe, '--', label=\"x, Euler, dt = %.2f\" %dt)\n",
    "ax.plot(te, exact_solution_x, '-', c=line.get_color(), label=\"x exact\")\n",
    "line, = ax.plot(te, ye, '--', label=\"y, Euler, dt = %.2f\" %dt)\n",
    "ax.plot(te, exact_solution_y, '-', c=line.get_color(), label=\"y exact\")\n",
    "\n",
    "ax.set_ylim([-1.5,1.5])\n",
    "ax.set_ylabel(\"x, y\")\n",
    "ax.legend(loc=0, prop={'size':10})\n",
    "\n",
    "ax = fig.add_subplot(2,1,2, sharex=ax)\n",
    "\n",
    "line, = ax.plot(te, ue, '--', label=\"u, Euler, dt = %.2f\" %dt)\n",
    "ax.plot(te, exact_solution_u, '-', c=line.get_color(), label=\"vx exact\")\n",
    "line, = ax.plot(te, ve, '--', label=\"v, Euler, dt = %.2f\" %dt)\n",
    "ax.plot(te, exact_solution_v, '-', c=line.get_color(), label=\"vy exact\")\n",
    "\n",
    "ax.set_ylim([-1.5,1.5])\n",
    "ax.set_ylabel(\"u, v\")\n",
    "ax.set_xlabel(\"Time\")\n",
    "ax.legend(loc=0, prop={'size':10})"
   ]
  },
  {
   "cell_type": "markdown",
   "metadata": {},
   "source": [
    "This looks  bad... Let's integrate it even more "
   ]
  },
  {
   "cell_type": "code",
   "execution_count": null,
   "metadata": {},
   "outputs": [],
   "source": [
    "Time_max = 1000\n",
    "N_steps = int(Time_max/float(dt))\n",
    "\n",
    "# Computation of the Euler's integration\n",
    "te, xe, ye, ue, ve = evolve_Euler(x0, y0, u0, v0,  mu, dt, N_steps)\n",
    "\n",
    "# Computation of the exact solution\n",
    "exact_solution_x  = [position_x(x0, tt, omega) for tt in te]\n",
    "exact_solution_y  = [position_y(x0, tt, omega) for tt in te]\n",
    "exact_solution_u  = [velocity_x(x0, tt, omega) for tt in te]\n",
    "exact_solution_v  = [velocity_y(x0, tt, omega) for tt in te]"
   ]
  },
  {
   "cell_type": "code",
   "execution_count": null,
   "metadata": {
    "scrolled": false
   },
   "outputs": [],
   "source": [
    "fig = plt.figure(figsize=(16, 16))\n",
    "ax = fig.add_subplot(2,1,1)\n",
    "\n",
    "line, = ax.plot(te, xe, '-o', label=\"x, Euler, dt = %.2f\" %dt)\n",
    "ax.plot(te, exact_solution_x, '-', c=line.get_color(), label=\"x exact\")\n",
    "line, = ax.plot(te, ye, '-o', label=\"y, Euler, dt = %.2f\" %dt)\n",
    "ax.plot(te, exact_solution_y, '-', c=line.get_color(), label=\"y exact\")\n",
    "\n",
    "ax.set_ylabel(\"x, y\")\n",
    "ax.legend(loc=0, prop={'size':10})\n",
    "\n",
    "ax = fig.add_subplot(2,1,2, sharex=ax)\n",
    "\n",
    "line, = ax.plot(te, ue, '-o', label=\"u, Euler, dt = %.2f\" %dt)\n",
    "ax.plot(te, exact_solution_u, '-', c=line.get_color(), label=\"vx exact\")\n",
    "line, = ax.plot(te, ve, '-o', label=\"v, Euler, dt = %.2f\" %dt)\n",
    "ax.plot(te, exact_solution_v, '-', c=line.get_color(), label=\"vy exact\")\n",
    "\n",
    "ax.set_ylabel(\"u, v\")\n",
    "ax.set_xlabel(\"Time\")\n",
    "ax.legend(loc=0, prop={'size':10})"
   ]
  },
  {
   "cell_type": "markdown",
   "metadata": {},
   "source": [
    "Let's investigate the effect of the timestep"
   ]
  },
  {
   "cell_type": "code",
   "execution_count": null,
   "metadata": {},
   "outputs": [],
   "source": [
    "Time_max = 500\n",
    "\n",
    "fig = plt.figure(figsize=(12, 8))\n",
    "ax = fig.add_subplot(1,1,1)\n",
    "\n",
    "for dt in [0.2, 0.1, 0.001]:\n",
    "    N_steps = int(Time_max/float(dt))\n",
    "    # Computation of the Euler's integration\n",
    "    te, xe, ye, ue, ve = evolve_Euler(x0, y0, u0, v0,  mu, dt, N_steps)\n",
    "    #te, xe, ve = evolve_Euler(x0 , v0, omega, dt, int(Time_max/float(dt)))\n",
    "    ax.plot(te, xe, label=\"dt={}\".format(dt))\n",
    "\n",
    "ax.set_ylim([-15,7.5])\n",
    "ax.set_ylabel(\"x\")\n",
    "ax.set_xlabel(\"Time\")\n",
    "ax.legend(loc=0, prop={'size':10})"
   ]
  },
  {
   "cell_type": "markdown",
   "metadata": {},
   "source": [
    "## Phase space\n",
    "\n",
    "To visualize this a bit differently, let us plot the phase space: $u = f(x)$ and $v = f(y)$"
   ]
  },
  {
   "cell_type": "code",
   "execution_count": null,
   "metadata": {},
   "outputs": [],
   "source": [
    "Time_max = 10\n",
    "dt = 0.01\n",
    "N_steps = int(Time_max/float(dt))\n",
    "te, xe, ye, ue, ve = evolve_Euler(x0, y0, u0, v0,  mu, dt, N_steps)\n",
    "\n",
    "fig = plt.figure(figsize=(8, 8))\n",
    "ax = fig.add_subplot(1,1,1)\n",
    "\n",
    "print(\"now is time to work: plot phase space u vs x\")\n",
    "# plot calculated phase space\n",
    "ax.plot(..., '--', label=\"Euler, dt={}\".format(dt))\n",
    "# plot analytical phase space\n",
    "ax.plot(..., label=\"Exact solution\") \n",
    "\n",
    "ax.set_ylabel(\"u\")\n",
    "ax.set_xlabel(\"x\")\n",
    "ax.legend(loc=0, prop={'size':10})\n",
    "ax.set_ylim([-1.5,1.5])\n",
    "ax.set_xlim([-1.5,1.5])\n",
    "\n",
    "\n",
    "fig = plt.figure(figsize=(8, 8))\n",
    "ax = fig.add_subplot(1,1,1)\n",
    "\n",
    "print(\"now is time to work: plot phase space v vs y\")\n",
    "# plot calculated phase space\n",
    "ax.plot(..., '--', label=\"Euler, dt={}\".format(dt))\n",
    "# plot analytical phase space\n",
    "ax.plot(..., label=\"Exact solution\") \n",
    "\n",
    "ax.set_ylabel(\"v\")\n",
    "ax.set_xlabel(\"y\")\n",
    "ax.legend(loc=0, prop={'size':10})\n",
    "ax.set_ylim([-1.5,1.5])\n",
    "ax.set_xlim([-1.5,1.5])\n"
   ]
  },
  {
   "cell_type": "markdown",
   "metadata": {},
   "source": [
    "There is something clearly very wrong. "
   ]
  },
  {
   "cell_type": "markdown",
   "metadata": {},
   "source": [
    "## Energy of the system: is it conserved?\n",
    "\n",
    "\n",
    "\n",
    "The energy of the system is given by\n",
    "\\begin{equation}\n",
    "E = E_{\\rm grav} + E_{\\rm kin} = - \\frac{\\mu}{r} + \\frac{1}{2} V^2 = -\\frac{C}{r}\n",
    "\\end{equation}\n",
    "where $r = \\sqrt{x^2+y^2}$ and $V^2 = u^2 + v^2$.\n",
    "\n",
    "We will compute $\\Delta E = E(t) - E(t=0)$. If there is conservation of the energy, this should be zero.  "
   ]
  },
  {
   "cell_type": "code",
   "execution_count": null,
   "metadata": {},
   "outputs": [],
   "source": [
    "fig = plt.figure(figsize=(8, 8))\n",
    "ax = fig.add_subplot(1,1,1)\n",
    "\n",
    "Time_max = 1000\n",
    "\n",
    "for dt in [0.1, 0.01, 0.001]:\n",
    "    N_steps = int(Time_max/float(dt))\n",
    "    # Computation of the Euler's integration\n",
    "    te, xe, ye, ue, ve = evolve_Euler(x0, y0, u0, v0,  mu, dt, N_steps)\n",
    "    \n",
    "    print(\"now is time to work\")\n",
    "    # Compute the energy compared to the Energy at time 0\n",
    "    delta_energy = np.zeros((N_steps+1))\n",
    "    energy_0 = # write here\n",
    "    for i in range(N_steps+1):\n",
    "        delta_energy[i] = # write here\n",
    "\n",
    "    ax.plot(te, delta_energy, label=\"dt={}\".format(dt))\n",
    "    ax.set_ylabel(\"$\\Delta$ Energy\")\n",
    "    ax.set_xlabel(\"Time\")\n",
    "    ax.set_yscale('log')\n",
    "    ax.set_xscale('log')\n",
    "    ax.legend(loc=0, prop={'size':10})"
   ]
  },
  {
   "cell_type": "markdown",
   "metadata": {},
   "source": [
    "The energy is not conserved..."
   ]
  },
  {
   "cell_type": "markdown",
   "metadata": {},
   "source": [
    "## Angular momentum: is it conserved?\n",
    "\n",
    "Another quantity which is supposed to be conserved is the total angular momentum.\n",
    "\n",
    "The angular momentum in the heliocentric frame is given by\n",
    "\\begin{equation}\n",
    "\\mathbf{h} = \\frac{m_0 m_1}{m_0 + m_1}\\mathbf{r} \\times \\mathbf{v}\n",
    "\\end{equation}\n",
    "\n",
    "For our example, the angular momentum (per unit mass) is given by\n",
    "\\begin{equation}\n",
    "\\begin{split}\n",
    "\\mathbf{h} &= \\mathbf{r} \\times \\mathbf{v}\\\\\n",
    "h_z &= x v - y u\n",
    "\\end{split}\n",
    "\\end{equation}\n",
    "\n",
    "Let us see if this quantity is conserved. To do that let us compute $\\Delta h_z = h_z(t) - h_z(t=0)$."
   ]
  },
  {
   "cell_type": "code",
   "execution_count": null,
   "metadata": {},
   "outputs": [],
   "source": [
    "fig = plt.figure(figsize=(8, 8))\n",
    "ax = fig.add_subplot(1,1,1)\n",
    "\n",
    "Time_max = 1000\n",
    "\n",
    "for dt in [0.1, 0.01, 0.001]:\n",
    "    N_steps = int(Time_max/float(dt))\n",
    "    # Computation of the Euler's integration\n",
    "    te, xe, ye, ue, ve = evolve_Euler(x0, y0, u0, v0,  mu, dt, N_steps)\n",
    "    \n",
    "    print(\"now is time to work\")\n",
    "    # Compute the angular momentum compared to the angular momentum at time 0\n",
    "    delta_angular_momentum = np.zeros((N_steps+1))\n",
    "    angular_momentum_0 = # write here\n",
    "    for i in range(N_steps+1):\n",
    "        delta_angular_momentum[i] = # write here\n",
    "\n",
    "    ax.plot(te, delta_angular_momentum, label=\"dt={}\".format(dt))\n",
    "    ax.set_ylabel(\"$\\Delta$ angular momentum\")\n",
    "    ax.set_xlabel(\"Time\")\n",
    "    ax.set_yscale('log')\n",
    "    ax.set_xscale('log')\n",
    "    ax.legend(loc=0, prop={'size':10})"
   ]
  },
  {
   "cell_type": "markdown",
   "metadata": {},
   "source": [
    "The angular momentum is not conserved either..."
   ]
  }
 ],
 "metadata": {
  "kernelspec": {
   "display_name": "Python 2",
   "language": "python",
   "name": "python2"
  },
  "language_info": {
   "codemirror_mode": {
    "name": "ipython",
    "version": 2
   },
   "file_extension": ".py",
   "mimetype": "text/x-python",
   "name": "python",
   "nbconvert_exporter": "python",
   "pygments_lexer": "ipython2",
   "version": "2.7.16"
  }
 },
 "nbformat": 4,
 "nbformat_minor": 2
}
