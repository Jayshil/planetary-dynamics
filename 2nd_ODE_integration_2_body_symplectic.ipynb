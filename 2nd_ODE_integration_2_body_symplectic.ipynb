{
 "cells": [
  {
   "cell_type": "markdown",
   "metadata": {},
   "source": [
    "# Leapfrog integration\n",
    "\n",
    "The leapfrog integrator is one of the most simple symplectic integrator with second order accuracy.\n",
    "\n",
    "- First, the positions are advanced for half a time step assuming the velocities fixed (kick).\n",
    "- Then, the velocities are advanced for one time step keeping the positions fixed (drift).\n",
    "- Finally, the positions are advanced for half a time step assuming the velocities fixed (kick)\n",
    "\n",
    "With $x_n$ and $u_n$ the position and velocity for the x-coordinates ($y_n$ and $v_n$ the position and velocity for the y-coordinates)\n",
    "\\begin{equation}\n",
    "\\begin{split}\n",
    "x_{n+1/2} &= x_n + \\frac{\\Delta t}{2} u_n & \\quad \\textrm{(kick)}\\\\\n",
    "u_{n+1}   &= u_n  - \\frac{\\mu}{(x_{n+1/2}^2+y_{n+1/2}^2)^{3/2}} x_{n+1/2} \\Delta t & \\quad \\textrm{(drift)}\\\\\n",
    "x_{n+1}   &= x_{n+1/2} + \\frac{\\Delta t}{2} u_{n+1} & \\quad \\textrm{(kick)}\n",
    "\\end{split}\n",
    "\\end{equation}\n",
    "\n",
    "\n",
    "\n"
   ]
  },
  {
   "cell_type": "code",
   "execution_count": null,
   "metadata": {},
   "outputs": [],
   "source": [
    "import numpy as np\n",
    "import matplotlib.pyplot as plt"
   ]
  },
  {
   "cell_type": "markdown",
   "metadata": {},
   "source": [
    "Let us define the function of the exact solution (which we know !)\n",
    "\n",
    "Here $\\omega = n = \\mu/a^3$, where $a$ is the semi-major axis"
   ]
  },
  {
   "cell_type": "code",
   "execution_count": null,
   "metadata": {},
   "outputs": [],
   "source": [
    "# Exact solution for the x coordinate of the position\n",
    "def position_x(a, t, omega):\n",
    "    return a * np.cos(omega * t)\n",
    "def position_y(a, t, omega):\n",
    "    return a * np.sin(omega * t)\n",
    "# Exact solution for the x coordinate of the velocity\n",
    "def velocity_x(a, t, omega):\n",
    "    return - a * omega * np.sin(omega * t)\n",
    "def velocity_y(a, t, omega):\n",
    "    return a * omega * np.cos(omega * t)"
   ]
  },
  {
   "cell_type": "markdown",
   "metadata": {},
   "source": [
    "Let us define the 4 derivatives"
   ]
  },
  {
   "cell_type": "code",
   "execution_count": null,
   "metadata": {},
   "outputs": [],
   "source": [
    "# Velocities for the 2 components\n",
    "def dx_dt(x, y, u, v):\n",
    "    return u\n",
    "def dy_dt(x, y, u, v):\n",
    "    return v\n",
    "\n",
    "# Accelerations for the 2 components\n",
    "def du_dt(x, y, u, v, mu):\n",
    "    omega_squared = mu/np.power(x*x + y*y, 3./2.)\n",
    "    return - omega_squared * x\n",
    "def dv_dt(x, y, u, v, mu):\n",
    "    omega_squared = mu/np.power(x*x + y*y, 3./2.)\n",
    "    return - omega_squared * y"
   ]
  },
  {
   "cell_type": "markdown",
   "metadata": {},
   "source": [
    "Now let us define an evolver function, which will perform the Leapfrog integration. We want to keep in memory the solution x(t), v(t) and the time t to later plot the result and compare it to the exact solution. "
   ]
  },
  {
   "cell_type": "code",
   "execution_count": null,
   "metadata": {},
   "outputs": [],
   "source": [
    "def evolve_Leapfrog(x0, y0, u0, v0,  mu, dt, N_steps):\n",
    "    xl = np.zeros((N_steps + 1))\n",
    "    ul = np.zeros((N_steps + 1))\n",
    "    yl = np.zeros((N_steps + 1))\n",
    "    vl = np.zeros((N_steps + 1))\n",
    "    tl = np.zeros((N_steps + 1))\n",
    "\n",
    "    xl[0], yl[0] = x0, y0\n",
    "    ul[0], vl[0], tl[0] = u0, v0, 0\n",
    "\n",
    "    print(\"now is time to work\")\n",
    "    for i in range(N_steps):\n",
    "        xl_tmp = # write here # kick x\n",
    "        yl_tmp = # write here # kick y\n",
    "        \n",
    "        ul[i+1] = # write here # drift x\n",
    "        vl[i+1] = # write here # drift x\n",
    "        \n",
    "        xl[i+1] = # write here # kick x\n",
    "        yl[i+1] = # write here # kick y\n",
    "        \n",
    "        tl[i+1] = tl[i] + dt\n",
    "    return tl, xl, yl, ul, vl"
   ]
  },
  {
   "cell_type": "markdown",
   "metadata": {},
   "source": [
    "We here also put Euler's integration for comparison."
   ]
  },
  {
   "cell_type": "code",
   "execution_count": null,
   "metadata": {},
   "outputs": [],
   "source": [
    "def evolve_Euler(x0, y0, u0, v0,  mu, dt, N_steps):\n",
    "    xe = np.zeros((N_steps + 1))\n",
    "    ue = np.zeros((N_steps + 1))\n",
    "    ye = np.zeros((N_steps + 1))\n",
    "    ve = np.zeros((N_steps + 1))\n",
    "    te = np.zeros((N_steps + 1))\n",
    "\n",
    "    xe[0], ye[0] = x0, y0\n",
    "    ue[0], ve[0], te[0] = u0, v0, 0\n",
    "\n",
    "    for i in range(N_steps):\n",
    "        xe[i+1] = xe[i] + dt * dx_dt(xe[i], ye[i], ue[i], ve[i])\n",
    "        ye[i+1] = ye[i] + dt * dy_dt(xe[i], ye[i], ue[i], ve[i])\n",
    "        ue[i+1] = ue[i] + dt * du_dt(xe[i], ye[i], ue[i], ve[i], mu)\n",
    "        ve[i+1] = ve[i] + dt * dv_dt(xe[i], ye[i], ue[i], ve[i], mu)\n",
    "        te[i+1] = te[i] + dt\n",
    "    return te, xe, ye, ue, ve"
   ]
  },
  {
   "cell_type": "markdown",
   "metadata": {},
   "source": [
    "Now let's define the initial conditions.\n",
    "And compute both an array with the exact solution and 2 arrays with the integration results."
   ]
  },
  {
   "cell_type": "code",
   "execution_count": null,
   "metadata": {},
   "outputs": [],
   "source": [
    "Time_max = 10\n",
    "\n",
    "# Initial conditions for the integration\n",
    "mu = 1.0\n",
    "x0, y0 = 1.0, 0.0\n",
    "u0, v0 = 0.0, 1.0\n",
    "dt = 0.01\n",
    "\n",
    "omega = np.sqrt(mu/np.power(x0*x0+y0*y0, 3./2.))\n",
    "N_steps = int(Time_max/float(dt))\n",
    "\n",
    "# Computation of the exact solution\n",
    "time = np.arange(Time_max*10)/10.\n",
    "exact_solution_x  = [position_x(x0, tt, omega) for tt in time]\n",
    "exact_solution_y  = [position_y(x0, tt, omega) for tt in time]\n",
    "exact_solution_u  = [velocity_x(x0, tt, omega) for tt in time]\n",
    "exact_solution_v  = [velocity_y(x0, tt, omega) for tt in time]\n",
    "    \n",
    "# Computation of the Leapfrog's integration\n",
    "tl, xl, yl, ul, vl = evolve_Leapfrog(x0, y0, u0, v0,  mu, dt, N_steps)\n",
    "# Computation of the Euler's integration\n",
    "te, xe, ye, ue, ve = evolve_Euler(x0, y0, u0, v0,  mu, dt, N_steps)"
   ]
  },
  {
   "cell_type": "markdown",
   "metadata": {},
   "source": [
    "Now let's plot both the exact solution and the integration result"
   ]
  },
  {
   "cell_type": "code",
   "execution_count": null,
   "metadata": {
    "scrolled": false
   },
   "outputs": [],
   "source": [
    "fig = plt.figure(figsize=(16, 16))\n",
    "ax = fig.add_subplot(2,1,1)\n",
    "\n",
    "line, = ax.plot(tl, xl, '--', label=\"x, Leapfrog, dt = %.2f\" %dt)\n",
    "ax.plot(te, xe, '-o', c=line.get_color(), label=\"x, Euler, dt = %.2f\" %dt)\n",
    "ax.plot(time, exact_solution_x, '-', c=line.get_color(), label=\"x exact\")\n",
    "\n",
    "line, = ax.plot(tl, yl, '--', label=\"y, Leapfrog, dt = %.2f\" %dt)\n",
    "ax.plot(te, ye, '-o', c=line.get_color(), label=\"x, Euler, dt = %.2f\" %dt)\n",
    "ax.plot(time, exact_solution_y, '-', c=line.get_color(), label=\"y exact\")\n",
    "\n",
    "ax.set_ylim([-1.2,1.2])\n",
    "ax.set_ylabel(\"x, y\")\n",
    "ax.legend(loc=0, prop={'size':10})\n",
    "\n",
    "ax = fig.add_subplot(2,1,2, sharex=ax)\n",
    "\n",
    "line, = ax.plot(tl, ul, '--', label=\"u, Leapfrog, dt = %.2f\" %dt)\n",
    "ax.plot(te, ue, '-o', c=line.get_color(), label=\"u, Euler, dt = %.2f\" %dt)\n",
    "ax.plot(time, exact_solution_u, '-', c=line.get_color(), label=\"u exact\")\n",
    "\n",
    "line, = ax.plot(tl, vl, '--', label=\"v, Leapfrog, dt = %.2f\" %dt)\n",
    "ax.plot(te, ve, '-o', c=line.get_color(), label=\"v, Euler, dt = %.2f\" %dt)\n",
    "ax.plot(time, exact_solution_v, '-', c=line.get_color(), label=\"v exact\")\n",
    "\n",
    "ax.set_ylim([-1.2,1.2])\n",
    "ax.set_ylabel(\"vx, vy\")\n",
    "ax.set_xlabel(\"Time\")\n",
    "ax.legend(loc=0, prop={'size':10})"
   ]
  },
  {
   "cell_type": "markdown",
   "metadata": {},
   "source": [
    "It looks good!\n",
    "\n",
    "Let's evolve it a bit more"
   ]
  },
  {
   "cell_type": "code",
   "execution_count": null,
   "metadata": {},
   "outputs": [],
   "source": [
    "Time_max = 100\n",
    "N_steps = int(Time_max/float(dt))\n",
    "\n",
    "# Computation of the Leapfrog's integration\n",
    "tl, xl, yl, ul, vl = evolve_Leapfrog(x0, y0, u0, v0,  mu, dt, N_steps)\n",
    "\n",
    "# Computation of the exact solution\n",
    "time = np.arange(Time_max*10)/10.\n",
    "exact_solution_x  = [position_x(x0, tt, omega) for tt in time]\n",
    "exact_solution_y  = [position_y(x0, tt, omega) for tt in time]\n",
    "exact_solution_u  = [velocity_x(x0, tt, omega) for tt in time]\n",
    "exact_solution_v  = [velocity_y(x0, tt, omega) for tt in time]"
   ]
  },
  {
   "cell_type": "markdown",
   "metadata": {},
   "source": [
    "And plot"
   ]
  },
  {
   "cell_type": "code",
   "execution_count": null,
   "metadata": {},
   "outputs": [],
   "source": [
    "fig = plt.figure(figsize=(16, 16))\n",
    "ax = fig.add_subplot(2,1,1)\n",
    "\n",
    "line, = ax.plot(tl, xl, '--', label=\"x, Leapfrog, dt = %.2f\" %dt)\n",
    "ax.plot(time, exact_solution_x, '-', c=line.get_color(), label=\"x exact\")\n",
    "line, = ax.plot(tl, yl, '--', label=\"y, Leapfrog, dt = %.2f\" %dt)\n",
    "ax.plot(time, exact_solution_y, '-', c=line.get_color(), label=\"y exact\")\n",
    "\n",
    "ax.set_ylim([-1.2,1.2])\n",
    "ax.set_ylabel(\"x, y\")\n",
    "ax.legend(loc=0, prop={'size':10})\n",
    "\n",
    "ax = fig.add_subplot(2,1,2, sharex=ax)\n",
    "\n",
    "line, = ax.plot(tl, ul, '--', label=\"u, Leapfrog, dt = %.2f\" %dt)\n",
    "ax.plot(time, exact_solution_u, '-', c=line.get_color(), label=\"u exact\")\n",
    "line, = ax.plot(tl, vl, '--', label=\"v, Leapfrog, dt = %.2f\" %dt)\n",
    "ax.plot(time, exact_solution_v, '-', c=line.get_color(), label=\"v exact\")\n",
    "\n",
    "ax.set_ylim([-1.2,1.2])\n",
    "ax.set_ylabel(\"u, v\")\n",
    "ax.set_xlabel(\"Time\")\n",
    "ax.legend(loc=0, prop={'size':10})"
   ]
  },
  {
   "cell_type": "markdown",
   "metadata": {},
   "source": [
    "This still looks very good!\n",
    "\n",
    "Let's integrate it even more "
   ]
  },
  {
   "cell_type": "code",
   "execution_count": null,
   "metadata": {},
   "outputs": [],
   "source": [
    "Time_max = 1000\n",
    "N_steps = int(Time_max/float(dt))\n",
    "\n",
    "# Computation of the Leapfrog's integration\n",
    "tl, xl, yl, ul, vl = evolve_Leapfrog(x0, y0,u0, v0,  mu, dt, N_steps)\n",
    "\n",
    "# Computation of the exact solution\n",
    "time = np.arange(Time_max*10)/10.\n",
    "exact_solution_x  = [position_x(x0, tt, omega) for tt in time]\n",
    "exact_solution_y  = [position_y(x0, tt, omega) for tt in time]\n",
    "exact_solution_u  = [velocity_x(x0, tt, omega) for tt in time]\n",
    "exact_solution_v  = [velocity_y(x0, tt, omega) for tt in time]"
   ]
  },
  {
   "cell_type": "markdown",
   "metadata": {},
   "source": [
    "And let us plot only the end of the evolution"
   ]
  },
  {
   "cell_type": "code",
   "execution_count": null,
   "metadata": {},
   "outputs": [],
   "source": [
    "fig = plt.figure(figsize=(16, 16))\n",
    "ax = fig.add_subplot(2,1,1)\n",
    "\n",
    "line, = ax.plot(tl, xl, '--', label=\"x, Leapfrog, dt = %.2f\" %dt)\n",
    "ax.plot(time, exact_solution_x, '-', c=line.get_color(), label=\"x exact\")\n",
    "line, = ax.plot(tl, yl, '--', label=\"y, Leapfrog, dt = %.2f\" %dt)\n",
    "ax.plot(time, exact_solution_y, '-', c=line.get_color(), label=\"y exact\")\n",
    "\n",
    "ax.set_ylim([-1.2,1.2])\n",
    "ax.set_ylabel(\"x, y\")\n",
    "ax.legend(loc=0, prop={'size':10})\n",
    "\n",
    "ax = fig.add_subplot(2,1,2, sharex=ax)\n",
    "\n",
    "line, = ax.plot(tl, ul, '--', label=\"u, Leapfrog, dt = %.2f\" %dt)\n",
    "ax.plot(time, exact_solution_u, '-', c=line.get_color(), label=\"u exact\")\n",
    "line, = ax.plot(tl, vl, '--', label=\"v, Leapfrog, dt = %.2f\" %dt)\n",
    "ax.plot(time, exact_solution_v, '-', c=line.get_color(), label=\"v exact\")\n",
    "\n",
    "ax.set_xlim([800, 1010])\n",
    "ax.set_ylim([-1.2,1.2])\n",
    "ax.set_ylabel(\"u, v\")\n",
    "ax.set_xlabel(\"Time\")\n",
    "ax.legend(loc=0, prop={'size':10})"
   ]
  },
  {
   "cell_type": "markdown",
   "metadata": {},
   "source": [
    "### Let's investigate the effect of the timestep"
   ]
  },
  {
   "cell_type": "code",
   "execution_count": null,
   "metadata": {
    "scrolled": false
   },
   "outputs": [],
   "source": [
    "Time_max = 100\n",
    "\n",
    "fig = plt.figure(figsize=(17, 8))\n",
    "ax = fig.add_subplot(1,1,1)\n",
    "\n",
    "for dt in [0.2, 0.1, 0.01]:\n",
    "    N_steps = int(Time_max/float(dt))\n",
    "    # Computation of the Leapfrog's integration\n",
    "    tl, xl, yl, ul, vl = evolve_Leapfrog(x0, y0,u0, v0,  mu, dt, N_steps)\n",
    "    ax.plot(time, exact_solution_x, '--', c='k', label=\"x exact\")\n",
    "    ax.plot(tl, xl, label=\"dt={}\".format(dt))\n",
    "\n",
    "ax.set_xlim([0,110])\n",
    "ax.set_ylim([-1.4,1.4])\n",
    "ax.set_ylabel(\"x\")\n",
    "ax.set_xlabel(\"Time\")\n",
    "ax.legend(loc=0, prop={'size':10})"
   ]
  },
  {
   "cell_type": "markdown",
   "metadata": {},
   "source": [
    "The amplitude of the oscillations is constant but increasing the timestep leads to a shift of the frequency"
   ]
  },
  {
   "cell_type": "markdown",
   "metadata": {},
   "source": [
    "## Phase space\n",
    "\n",
    "To visualize this a bit differently, let us plot the phase space: $u = f(x)$ and $v = f(y)$"
   ]
  },
  {
   "cell_type": "code",
   "execution_count": null,
   "metadata": {
    "scrolled": false
   },
   "outputs": [],
   "source": [
    "Time_max = 10\n",
    "dt = 0.01\n",
    "N_steps = int(Time_max/float(dt))\n",
    "tl, xl, yl, ul, vl = evolve_Leapfrog(x0, y0,u0, v0,  mu, dt, N_steps)\n",
    "\n",
    "fig = plt.figure(figsize=(8, 8))\n",
    "ax = fig.add_subplot(1,1,1)\n",
    "\n",
    "ax.plot(xl, ul, '-o', label=\"Leapfrog, dt={}\".format(dt))\n",
    "ax.plot(exact_solution_x, exact_solution_u, label=\"Exact solution\") \n",
    "ax.set_ylabel(\"u\")\n",
    "ax.set_xlabel(\"x\")\n",
    "ax.legend(loc=0, prop={'size':10})\n",
    "ax.set_ylim([-1.5,1.5])\n",
    "ax.set_xlim([-1.5,1.5])\n",
    "\n",
    "fig = plt.figure(figsize=(8, 8))\n",
    "ax = fig.add_subplot(1,1,1)\n",
    "\n",
    "ax.plot(yl, vl, '-o', label=\"Leapfrog, dt={}\".format(dt))\n",
    "ax.plot(exact_solution_y, exact_solution_v, label=\"Exact solution\") \n",
    "ax.set_ylabel(\"v\")\n",
    "ax.set_xlabel(\"y\")\n",
    "ax.legend(loc=0, prop={'size':10})\n",
    "ax.set_ylim([-1.5,1.5])\n",
    "ax.set_xlim([-1.5,1.5])\n"
   ]
  },
  {
   "cell_type": "markdown",
   "metadata": {},
   "source": [
    "## Let us compute the error\n",
    "\n",
    "We will compute the error on the x-component of the position compared it to the corresponding analytical solution."
   ]
  },
  {
   "cell_type": "code",
   "execution_count": null,
   "metadata": {},
   "outputs": [],
   "source": [
    "Time_max = 1000\n",
    "dt = 0.1\n",
    "N_steps = int(Time_max/float(dt))\n",
    "\n",
    "# Computation of the Leapfrog's and Euler's integrations\n",
    "tl, xl, yl, ul, vl = evolve_Leapfrog(x0, y0,u0, v0,  mu, dt, N_steps)\n",
    "te, xe, ye, ue, ve = evolve_Euler(x0, y0, u0, v0,  mu, dt, N_steps)\n",
    "\n",
    "# Computation of the exact solution\n",
    "exact_solution_x  = [position_x(x0, tt, omega) for tt in tl]\n",
    "exact_solution_y  = [position_y(x0, tt, omega) for tt in tl]\n",
    "exact_solution_u  = [velocity_x(x0, tt, omega) for tt in tl]\n",
    "exact_solution_v  = [velocity_y(x0, tt, omega) for tt in tl]"
   ]
  },
  {
   "cell_type": "code",
   "execution_count": null,
   "metadata": {},
   "outputs": [],
   "source": [
    "fig = plt.figure(figsize=(17, 8))\n",
    "ax = fig.add_subplot(1,1,1)\n",
    "\n",
    "print(\"now is time to work: plot the error for the x position for Leapfrog and Euler\")\n",
    "ax.plot(tl, ..., label=\"Leapfrog, dt={}\".format(dt))\n",
    "ax.plot(tl, ..., label=\"Euler, dt={}\".format(dt))\n",
    "\n",
    "#ax.set_xlim([0,110])\n",
    "#ax.set_ylim([-1.4,1.4])\n",
    "ax.set_ylabel(\"Error x\")\n",
    "ax.set_xlabel(\"Time\")\n",
    "ax.legend(loc=0, prop={'size':10})"
   ]
  },
  {
   "cell_type": "markdown",
   "metadata": {},
   "source": [
    "The error seems to be increasing as well, but on longer timescales.\n",
    "\n",
    "What happens if we integrate it on a longer time."
   ]
  },
  {
   "cell_type": "code",
   "execution_count": null,
   "metadata": {},
   "outputs": [],
   "source": [
    "print(\"now is time to work: play with Time_max\")\n",
    "\n",
    "Time_max = # Choose here!\n",
    "dt = 0.1\n",
    "N_steps = int(Time_max/float(dt))\n",
    "\n",
    "# Computation of the Leapfrog's and Euler's integrations\n",
    "tl, xl, yl, ul, vl = evolve_Leapfrog(x0, y0,u0, v0,  mu, dt, N_steps)\n",
    "te, xe, ye, ue, ve = evolve_Euler(x0, y0, u0, v0,  mu, dt, N_steps)\n",
    "\n",
    "# Computation of the exact solution\n",
    "exact_solution_x  = [position_x(x0, tt, omega) for tt in tl]\n",
    "exact_solution_y  = [position_y(x0, tt, omega) for tt in tl]\n",
    "exact_solution_u  = [velocity_x(x0, tt, omega) for tt in tl]\n",
    "exact_solution_v  = [velocity_y(x0, tt, omega) for tt in tl]"
   ]
  },
  {
   "cell_type": "code",
   "execution_count": null,
   "metadata": {},
   "outputs": [],
   "source": [
    "fig = plt.figure(figsize=(17, 8))\n",
    "ax = fig.add_subplot(1,1,1)\n",
    "\n",
    "ax.plot(tl, xl-exact_solution_x, label=\"Leapfrog, dt={}\".format(dt))\n",
    "ax.plot(tl, xe-exact_solution_x, label=\"Euler, dt={}\".format(dt))\n",
    "\n",
    "#ax.set_xlim([0,110])\n",
    "#ax.set_ylim([-1.4,1.4])\n",
    "ax.set_ylabel(\"Error x\")\n",
    "ax.set_xlabel(\"Time\")\n",
    "ax.legend(loc=0, prop={'size':10})"
   ]
  },
  {
   "cell_type": "markdown",
   "metadata": {},
   "source": [
    "## Energy of the system: is it conserved?\n",
    "\n",
    "\n",
    "\n",
    "The energy of the system is given by\n",
    "\\begin{equation}\n",
    "E = E_{\\rm grav} + E_{\\rm kin} = - \\frac{\\mu}{r} + \\frac{1}{2} v^2 = -\\frac{C}{r}\n",
    "\\end{equation}\n",
    "where $r = \\sqrt{x^2+y^2}$ and $v^2 = v_x^2 + v_y^2$.\n",
    "\n",
    "We will compute $\\Delta E = E(t) - E(t=0)$. If there is conservation of the energy, this should be zero.  "
   ]
  },
  {
   "cell_type": "code",
   "execution_count": null,
   "metadata": {},
   "outputs": [],
   "source": [
    "fig = plt.figure(figsize=(8, 8))\n",
    "ax = fig.add_subplot(1,1,1)\n",
    "\n",
    "Time_max = 1000\n",
    "\n",
    "for dt in [0.1, 0.01, 0.001]:\n",
    "    N_steps = int(Time_max/float(dt))\n",
    "    # Computation of the Euler's integration\n",
    "    tl, xl, yl, ul, vl = evolve_Leapfrog(x0, y0, u0, v0,  mu, dt, N_steps)\n",
    "    \n",
    "    # Compute the energy compared to the Energy at time 0\n",
    "    delta_energy = np.zeros((N_steps+1))\n",
    "    energy_0 = -mu/np.sqrt(xl[0]*xl[0] + yl[0]*yl[0]) + 0.5 * (ul[0]*ul[0] + vl[0]*vl[0])\n",
    "    for i in range(N_steps+1):\n",
    "        delta_energy[i] = -mu/np.sqrt(xl[i]*xl[i] + yl[i]*yl[i]) + 0.5 * (ul[i]*ul[i] + vl[i]*vl[i]) - energy_0\n",
    "\n",
    "    ax.plot(tl, delta_energy, label=\"dt={}\".format(dt))\n",
    "    ax.set_ylabel(\"$\\Delta$ Energy\")\n",
    "    ax.set_xlabel(\"Time\")\n",
    "    ax.set_yscale('log')\n",
    "    #ax.set_xscale('log')\n",
    "    ax.legend(loc=0, prop={'size':10})"
   ]
  },
  {
   "cell_type": "markdown",
   "metadata": {},
   "source": [
    "Energy conservation is pretty good and improves with smaller time steps."
   ]
  },
  {
   "cell_type": "markdown",
   "metadata": {},
   "source": [
    "## Angular momentum: is it conserved?\n",
    "\n",
    "Another quantity which is supposed to be conserved is the total angular momentum.\n",
    "\n",
    "The angular momentum in the heliocentric frame is given by\n",
    "\\begin{equation}\n",
    "\\mathbf{h} = \\frac{m_0 m_1}{m_0 + m_1}\\mathbf{r} \\times \\mathbf{v}\n",
    "\\end{equation}\n",
    "\n",
    "For our example, the angular momentum (per unit mass) is given by\n",
    "\\begin{equation}\n",
    "\\begin{split}\n",
    "\\mathbf{h} &= \\mathbf{r} \\times \\mathbf{v}\\\\\n",
    "h_z &= x v_y - y v_x\n",
    "\\end{split}\n",
    "\\end{equation}\n",
    "\n",
    "Let us see if this quantity is conserved. To do that let us compute $\\Delta h_z = h_z(t) - h_z(t=0)$."
   ]
  },
  {
   "cell_type": "code",
   "execution_count": null,
   "metadata": {},
   "outputs": [],
   "source": [
    "fig = plt.figure(figsize=(8, 8))\n",
    "ax = fig.add_subplot(1,1,1)\n",
    "\n",
    "Time_max = 1000\n",
    "\n",
    "for dt in [0.1, 0.01, 0.001]:\n",
    "    N_steps = int(Time_max/float(dt))\n",
    "    # Computation of the Leapfrog's integration\n",
    "    tl, xl, yl, ul, vl = evolve_Leapfrog(x0, y0, u0, v0,  mu, dt, N_steps)\n",
    "    \n",
    "    # Compute the energy compared to the Energy at time 0\n",
    "    delta_angular_momentum = np.zeros((N_steps+1))\n",
    "    angular_momentum_0 = xl[0]*vl[0] - yl[0]*ul[0]\n",
    "    for i in range(N_steps+1):\n",
    "        delta_angular_momentum[i] = (xl[i]*vl[i] - yl[i]*ul[i]) - angular_momentum_0\n",
    "\n",
    "    ax.plot(tl, delta_angular_momentum, label=\"dt={}\".format(dt))\n",
    "    ax.set_ylabel(\"$\\Delta$ angular momentum\")\n",
    "    ax.set_xlabel(\"Time\")\n",
    "    #ax.set_yscale('log')\n",
    "    #ax.set_xscale('log')\n",
    "    ax.legend(loc=0, prop={'size':10})"
   ]
  },
  {
   "cell_type": "markdown",
   "metadata": {},
   "source": [
    "The angular momentum is well conserved but is worst for smaller time steps...\n",
    "\n",
    "There are more efficient symplectic integrators than leapfrog."
   ]
  }
 ],
 "metadata": {
  "kernelspec": {
   "display_name": "Python 2",
   "language": "python",
   "name": "python2"
  },
  "language_info": {
   "codemirror_mode": {
    "name": "ipython",
    "version": 2
   },
   "file_extension": ".py",
   "mimetype": "text/x-python",
   "name": "python",
   "nbconvert_exporter": "python",
   "pygments_lexer": "ipython2",
   "version": "2.7.16"
  }
 },
 "nbformat": 4,
 "nbformat_minor": 2
}
