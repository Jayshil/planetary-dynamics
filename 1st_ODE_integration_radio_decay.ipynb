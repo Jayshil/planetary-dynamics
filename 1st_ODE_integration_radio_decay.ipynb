{
 "cells": [
  {
   "cell_type": "markdown",
   "metadata": {},
   "source": [
    "# Euler's integration\n",
    "\n",
    "We are going to look at how Euler's integration performs at reproducing a radioactive decay.\n",
    "\n",
    "The equation for radioactive decay is \n",
    "\\begin{equation}\n",
    "\\frac{\\mathrm{d} N}{\\mathrm{d} t} = -\\frac{N}{\\tau} \\equiv f(N,t),\n",
    "\\end{equation}\n",
    "\n",
    "Its exact solution is\n",
    "\\begin{equation}\n",
    "N(t) = N_0 e^{-t/\\tau}.\n",
    "\\end{equation}\n",
    "\n",
    "This small exercise aims at implementing an Euler integration scheme for this simple case.\n",
    "This is given by\n",
    "\\begin{equation}\n",
    "x(t+\\Delta t) \\approx x(t) + \\Delta t \\frac{\\mathrm{d} x}{\\mathrm{d} t} = x(t) + \\Delta t f(x(t), t)\n",
    "\\end{equation}\n",
    "\n",
    "\n",
    "\n"
   ]
  },
  {
   "cell_type": "code",
   "execution_count": null,
   "metadata": {},
   "outputs": [],
   "source": [
    "import numpy as np\n",
    "import matplotlib.pyplot as plt"
   ]
  },
  {
   "cell_type": "markdown",
   "metadata": {},
   "source": [
    "Let us define the function of the exact solution (which we know !)\n",
    "\n",
    "x0 is the initial number of nuclei, tau the mid lifetime"
   ]
  },
  {
   "cell_type": "code",
   "execution_count": null,
   "metadata": {},
   "outputs": [],
   "source": [
    "# Exact solution of the Nuclear decay equation\n",
    "def radioactive_decay(x0, t, tau):\n",
    "    return x0*np.exp(-t/tau)"
   ]
  },
  {
   "cell_type": "markdown",
   "metadata": {},
   "source": [
    "Let us now define the derivative function dx/dt = f(x,t) = -x/tau:"
   ]
  },
  {
   "cell_type": "code",
   "execution_count": null,
   "metadata": {},
   "outputs": [],
   "source": [
    "# Derivative of the number of Nuclei (dx/dt)\n",
    "def dx_dt(x, tau):\n",
    "    return -x/tau"
   ]
  },
  {
   "cell_type": "markdown",
   "metadata": {},
   "source": [
    "Now let us define an evolver function, which will perform the Euler integration. We want to keep in memory the solution x(t) and the time t to later plot the result and compare it to the exact solution"
   ]
  },
  {
   "cell_type": "code",
   "execution_count": null,
   "metadata": {},
   "outputs": [],
   "source": [
    "def evolve_Euler(x0, tau, dt, N_steps):\n",
    "    xe = np.zeros((N_steps + 1))\n",
    "    te = np.zeros((N_steps + 1))\n",
    "    # Define initial conditions!\n",
    "    xe[0], te[0] = x0, 0\n",
    "\n",
    "    print(\"now is time to work\")\n",
    "    for i in range(N_steps):\n",
    "        # Write down here the Euler integration scheme\n",
    "        # ...\n",
    "        te[i+1] = te[i] + dt\n",
    "    return te, xe"
   ]
  },
  {
   "cell_type": "markdown",
   "metadata": {},
   "source": [
    "Now let's define the initial condition x0, and the mid lifetime tau, the time step dt and the number of integration steps. \n",
    "And compute both an array with the exact solution and an array with the integration result"
   ]
  },
  {
   "cell_type": "code",
   "execution_count": null,
   "metadata": {},
   "outputs": [],
   "source": [
    "Time_max = 10\n",
    "\n",
    "# Initial conditions for the integration\n",
    "x0, tau, dt = 1000, 1, 0.8\n",
    "N_steps = int(Time_max/float(dt))\n",
    "\n",
    "# Computation of the exact solution\n",
    "exact_solution = np.zeros(Time_max*10)\n",
    "time = np.arange(Time_max*10)/10.\n",
    "for i in np.arange(len(exact_solution)):\n",
    "    exact_solution[i] = radioactive_decay(x0, time[i], tau)\n",
    "    \n",
    "# Computation of the Euler's integration\n",
    "te, xe = evolve_Euler(x0, tau, dt, N_steps)\n"
   ]
  },
  {
   "cell_type": "markdown",
   "metadata": {},
   "source": [
    "Now let's plot both the exact solution and the integration result"
   ]
  },
  {
   "cell_type": "code",
   "execution_count": null,
   "metadata": {
    "scrolled": false
   },
   "outputs": [],
   "source": [
    "fig = plt.figure(figsize=(12, 8))\n",
    "ax = fig.add_subplot(1,1,1)\n",
    "\n",
    "ax.plot(time, exact_solution, '-', label=\"Exact solution\")\n",
    "ax.plot(te, xe, '-o', label=\"Euler, dt = %.2f\" %dt)\n",
    "\n",
    "ax.set_ylabel(\"Number of nucleii\")\n",
    "ax.set_xlabel(\"Time\")\n",
    "ax.legend(loc=0, prop={'size':10})"
   ]
  },
  {
   "cell_type": "markdown",
   "metadata": {},
   "source": [
    "This is not too good...\n",
    "\n",
    "What happens with we decrease the timestep?"
   ]
  },
  {
   "cell_type": "code",
   "execution_count": null,
   "metadata": {},
   "outputs": [],
   "source": [
    "print(\"now is time to work, choose your time step and continue\")\n",
    "dt = 0.0\n",
    "\n",
    "N_steps = int(Time_max/float(dt))\n",
    "# Computation of the Euler's integration\n",
    "te, xe = evolve_Euler(x0, tau, dt, N_steps)\n",
    "\n",
    "fig = plt.figure(figsize=(12, 8))\n",
    "ax = fig.add_subplot(1,1,1)\n",
    "\n",
    "ax.plot(time, exact_solution, '-', label=\"Exact solution\")\n",
    "ax.plot(te, xe, '-o', label=\"Euler, dt = %.2f\" %dt)\n",
    "\n",
    "ax.set_ylabel(\"Number of nucleii\")\n",
    "ax.set_xlabel(\"Time\")\n",
    "ax.legend(loc=0, prop={'size':10})"
   ]
  },
  {
   "cell_type": "markdown",
   "metadata": {},
   "source": [
    "That's better, let us increase even more"
   ]
  },
  {
   "cell_type": "code",
   "execution_count": null,
   "metadata": {
    "scrolled": false
   },
   "outputs": [],
   "source": [
    "print(\"now is time to work, choose another smaller time step and continue\")\n",
    "dt = 0.0\n",
    "\n",
    "N_steps = int(Time_max/float(dt))\n",
    "# Computation of the Euler's integration\n",
    "te, xe = evolve_Euler(x0, tau, dt, N_steps)\n",
    "\n",
    "fig = plt.figure(figsize=(12, 8))\n",
    "ax = fig.add_subplot(1,1,1)\n",
    "\n",
    "ax.plot(time, exact_solution, '-', label=\"Exact solution\")\n",
    "ax.plot(te, xe, '-o', label=\"Euler, dt = %.2f\" %dt)\n",
    "\n",
    "ax.set_ylabel(\"Number of nucleii\")\n",
    "ax.set_xlabel(\"Time\")\n",
    "ax.legend(loc=0, prop={'size':10})"
   ]
  },
  {
   "cell_type": "markdown",
   "metadata": {},
   "source": [
    "## Error estimation\n",
    "\n",
    "\n",
    "\n",
    "It is interesting to try to quantify the performance of an integrator. \n",
    "This is done by calculating an error: back to the blackboard!\n",
    "\n",
    "Let us calculate and plot the error."
   ]
  },
  {
   "cell_type": "code",
   "execution_count": null,
   "metadata": {},
   "outputs": [],
   "source": [
    "dt = [0.8, 0.5, 0.1, 0.01]\n",
    "\n",
    "N_steps = [int(Time_max/float(x)) for x in dt]\n",
    "print(N_steps)\n",
    "\n",
    "# Computation of the Euler's integration for the different dt\n",
    "\n",
    "te_err = []\n",
    "xe_err = []\n",
    "for i in np.arange(len(dt)):\n",
    "    tmp = evolve_Euler(x0, tau, dt[i], N_steps[i])\n",
    "    te_err.append(tmp[0])\n",
    "    xe_err.append(tmp[1])\n",
    "\n",
    "# Computation of the error for the different dt by taking the exact solution minus Euler's integration.\n",
    "# Call it error_Euler, it should have a dimension len(dt) x N_steps\n",
    "\n",
    "print(\"now is time to work, compute the error for every dt!\")\n",
    "error_Euler = #\n",
    " \n",
    "# Plot\n",
    "\n",
    "fig = plt.figure(figsize=(12, 8))\n",
    "ax = fig.add_subplot(1,1,1)\n",
    "\n",
    "for i in np.arange(len(dt)):\n",
    "    ax.plot(te_err[i], error_Euler[i], '-', label=\"dt = %.2f\" %dt[i])\n",
    "\n",
    "ax.set_ylabel(\"Error\")\n",
    "ax.set_xlabel(\"Time\")\n",
    "ax.legend(loc=0, prop={'size':10})"
   ]
  },
  {
   "cell_type": "markdown",
   "metadata": {},
   "source": [
    "---------------------------------------------------------------------------------------------------------------------------------------------------------------------------------------------------------------------------------------------------------------------------------------------------------------------------------------------------------------\n",
    "\n",
    "# Heun's integration\n",
    "\n",
    "We are going to look at how Heun's integration performs at reproducing a radioactive decay.\n",
    "\n",
    "Heun's integration is given by\n",
    "\\begin{equation}\n",
    "x(t+\\Delta t) \\approx x(t) + \\frac{1}{2} \\Delta t \\left(f(x(t)) + f(x(t+\\Delta t)) \\right),\n",
    "\\end{equation}\n",
    "where for the $x(t+\\Delta t)$ on the left term is evaluated using a simple Euler step.\n"
   ]
  },
  {
   "cell_type": "code",
   "execution_count": null,
   "metadata": {},
   "outputs": [],
   "source": [
    "def evolve_Heun(x0, tau, dt, N_steps):\n",
    "    xh = np.zeros((N_steps + 1))\n",
    "    th = np.zeros((N_steps + 1))\n",
    "    # Define initial conditions!\n",
    "    xh[0], th[0] = x0, 0\n",
    "\n",
    "    print(\"now is time to work\")\n",
    "\n",
    "    for i in range(N_steps):\n",
    "        # Write down here the Heun integration scheme\n",
    "        # ...\n",
    "    return th, xh"
   ]
  },
  {
   "cell_type": "markdown",
   "metadata": {},
   "source": [
    "Let's see how this perform, and let's compare with the Euler method"
   ]
  },
  {
   "cell_type": "code",
   "execution_count": null,
   "metadata": {},
   "outputs": [],
   "source": [
    "dt = 0.8\n",
    "N_steps = int(Time_max/float(dt))\n",
    "# Computation of the Euler's integration\n",
    "te, xe = evolve_Euler(x0, tau, dt, N_steps)\n",
    "# Computation of the Heun's integration\n",
    "th, xh = evolve_Heun(x0, tau, dt, N_steps)\n",
    "\n",
    "fig = plt.figure(figsize=(12, 8))\n",
    "ax = fig.add_subplot(1,1,1)\n",
    "\n",
    "ax.plot(time, exact_solution, '-', label=\"Exact solution\")\n",
    "ax.plot(te, xe, '-o', label=\"Euler, dt = %.2f\" %dt)\n",
    "ax.plot(th, xh, '-o', label=\"Heun, dt = %.2f\" %dt)\n",
    "\n",
    "ax.set_ylabel(\"Number of nucleii\")\n",
    "ax.set_xlabel(\"Time\")\n",
    "ax.legend(loc=0, prop={'size':10})"
   ]
  },
  {
   "cell_type": "markdown",
   "metadata": {},
   "source": [
    "It looks like it's performing better than Euler's scheme!\n",
    "Let's decrease the time step."
   ]
  },
  {
   "cell_type": "code",
   "execution_count": null,
   "metadata": {},
   "outputs": [],
   "source": [
    "print(\"now is time to work: choose your time step and continue\")\n",
    "dt = 0.0\n",
    "\n",
    "N_steps = int(Time_max/float(dt))\n",
    "# Computation of the Euler's integration\n",
    "te, xe = evolve_Euler(x0, tau, dt, N_steps)\n",
    "# Computation of the Heun's integration\n",
    "th, xh = evolve_Heun(x0, tau, dt, N_steps)\n",
    "\n",
    "fig = plt.figure(figsize=(12, 8))\n",
    "ax = fig.add_subplot(1,1,1)\n",
    "\n",
    "ax.plot(time, exact_solution, '-', label=\"Exact solution\")\n",
    "ax.plot(te, xe, '-o', label=\"Euler, dt = %.2f\" %dt)\n",
    "ax.plot(th, xh, '-o', label=\"Heun, dt = %.2f\" %dt)\n",
    "\n",
    "ax.set_ylabel(\"Number of nucleii\")\n",
    "ax.set_xlabel(\"Time\")\n",
    "ax.legend(loc=0, prop={'size':10})"
   ]
  },
  {
   "cell_type": "markdown",
   "metadata": {},
   "source": [
    "## Error estimation\n",
    "\n",
    "Let's compare the errors for the two schemes"
   ]
  },
  {
   "cell_type": "code",
   "execution_count": null,
   "metadata": {},
   "outputs": [],
   "source": [
    "dt = [0.8, 0.5, 0.1, 0.01]\n",
    "\n",
    "N_steps = [int(Time_max/float(x)) for x in dt]\n",
    "print(N_steps)\n",
    "\n",
    "# Computation of the Heun's integration for the different dt (Euler was done previously)\n",
    "\n",
    "th_err = []\n",
    "xh_err = []\n",
    "for i in np.arange(len(dt)):\n",
    "    tmp = evolve_Heun(x0, tau, dt[i], N_steps[i])\n",
    "    th_err.append(tmp[0])\n",
    "    xh_err.append(tmp[1])\n",
    "\n",
    "# Computation of the error for the different dt by taking the exact solution minus Heun's integration solution: \n",
    "# Call it error_Heun and it should have dimensions of len(dt) x N_steps\n",
    "\n",
    "print(\"now is time to work, you can copy paste and update what you did for Euler\")\n",
    "error_Heun = #\n",
    "\n",
    "# Plot\n",
    "\n",
    "fig = plt.figure(figsize=(12, 8))\n",
    "ax = fig.add_subplot(1,1,1)\n",
    "\n",
    "for i in np.arange(len(dt)):\n",
    "    line, = ax.plot(te_err[i], error_Euler[i], '-', label=\"Euler, dt = %.2f\" %dt[i])\n",
    "    ax.plot(th_err[i], error_Heun[i], '--', c=line.get_color(), label=\"Heun, dt = %.2f\" %dt[i])\n",
    "\n",
    "ax.set_ylabel(\"Error\")\n",
    "ax.set_xlabel(\"Time\")\n",
    "ax.legend(loc=0, prop={'size':10})"
   ]
  },
  {
   "cell_type": "markdown",
   "metadata": {},
   "source": [
    "# Runge-Kutta of order 2 and 4\n",
    "\n",
    "The equations governing the integration of Runge-Kutta of order 2 are\n",
    "\n",
    "\\begin{equation}\n",
    "\\begin{split}\n",
    "k_1 & = h f(x_n, t_n) \\\\\n",
    "k_2 & = h f\\left(x_n + \\frac{1}{2} k_1, t_n + \\frac{1}{2}h\\right) \\\\\n",
    "x_{n+1} & = x_n + k_2 + \\mathcal{O}(h^3)\n",
    "\\end{split}\n",
    "\\end{equation}\n",
    "\n",
    "The equations governing the integration of Runge-Kutta of order 4 are\n",
    "\n",
    "\\begin{equation}\n",
    "\\begin{split}\n",
    "k_1 & = h f(x_n, t_n) \\\\\n",
    "k_2 & = h f\\left(x_n + \\frac{1}{2} k_1, t_n + \\frac{1}{2}h\\right) \\\\\n",
    "k_3 & = h f\\left(x_n + \\frac{1}{2} k_2,  t_n + \\frac{1}{2}h\\right)  \\\\\n",
    "k_4 & = h f\\left(x_n + k_3, t_n + h\\right)\\\\\n",
    "x_{n+1} & = x_n + \\frac{1}{6}k_1 + \\frac{1}{3}k_2 + \\frac{1}{3}k_3+ \\frac{1}{6}k_4 + \\mathcal{O}(h^5)\n",
    "\\end{split}\n",
    "\\end{equation}\n",
    "\n",
    "Let us see how this performs compared each other and then to Euler and Heun."
   ]
  },
  {
   "cell_type": "code",
   "execution_count": null,
   "metadata": {},
   "outputs": [],
   "source": [
    "# Integrator Runge Kutta of order 2\n",
    "\n",
    "def evolve_RK2(x0, tau, dt, N_steps):\n",
    "    xh = np.zeros((N_steps + 1))\n",
    "    th = np.zeros((N_steps + 1))\n",
    "    # Define initial conditions!\n",
    "    xh[0], th[0] = x0, 0\n",
    "    print(\"now is time to work\")\n",
    "\n",
    "    for i in range(N_steps):\n",
    "        # Write down here the RK2 integration scheme\n",
    "        \n",
    "        k1 = # write here\n",
    "        k2 = # write here\n",
    "        xh[i+1] = # write here\n",
    "        th[i+1] = th[i] + dt\n",
    "    return th, xh"
   ]
  },
  {
   "cell_type": "code",
   "execution_count": null,
   "metadata": {},
   "outputs": [],
   "source": [
    "# Integrator Runge Kutta of order 4\n",
    "\n",
    "def evolve_RK4(x0, tau, dt, N_steps):\n",
    "    xh = np.zeros((N_steps + 1))\n",
    "    th = np.zeros((N_steps + 1))\n",
    "    # Define initial conditions!\n",
    "    xh[0], th[0] = x0, 0\n",
    "    print(\"now is time to work\")\n",
    "\n",
    "    for i in range(N_steps):\n",
    "        # Write down here the RK4 integration scheme\n",
    "        \n",
    "        k1 = # write here\n",
    "        k2 = # write here\n",
    "        k3 = # write here\n",
    "        k4 = # write here\n",
    "        xh[i+1] = # write here\n",
    "        th[i+1] = th[i] + dt\n",
    "    return th, xh"
   ]
  },
  {
   "cell_type": "markdown",
   "metadata": {},
   "source": [
    "First let us compare the two Runge-Kutta with each other"
   ]
  },
  {
   "cell_type": "code",
   "execution_count": null,
   "metadata": {},
   "outputs": [],
   "source": [
    "dt = 0.8\n",
    "N_steps = int(Time_max/float(dt))\n",
    "# Computation of the RK2 integration\n",
    "tRK2, xRK2 = evolve_RK2(x0, tau, dt, N_steps)\n",
    "# Computation of the RK4 integration\n",
    "tRK4, xRK4 = evolve_RK4(x0, tau, dt, N_steps)\n",
    "\n",
    "\n",
    "fig = plt.figure(figsize=(12, 8))\n",
    "ax = fig.add_subplot(1,1,1)\n",
    "\n",
    "ax.plot(time, exact_solution, '-', label=\"Exact solution\")\n",
    "ax.plot(tRK2, xRK2, '-o', label=\"RK2, dt = %.2f\" %dt)\n",
    "ax.plot(tRK4, xRK4, '-o', label=\"RK4, dt = %.2f\" %dt)\n",
    "\n",
    "ax.set_ylabel(\"Number of nucleii\")\n",
    "ax.set_xlabel(\"Time\")\n",
    "ax.legend(loc=0, prop={'size':10})"
   ]
  },
  {
   "cell_type": "markdown",
   "metadata": {},
   "source": [
    "## Error estimation\n",
    "\n",
    "Let us compute the corresponding errors"
   ]
  },
  {
   "cell_type": "code",
   "execution_count": null,
   "metadata": {},
   "outputs": [],
   "source": [
    "dt = [0.8, 0.4, 0.2, 0.1]\n",
    "\n",
    "N_steps = [int(Time_max/float(x)) for x in dt]\n",
    "print(N_steps)\n",
    "\n",
    "# Computation of the Heun's integration for the different dt (Euler was done previously)\n",
    "\n",
    "tRK2_err = []\n",
    "xRK2_err = []\n",
    "tRK4_err = []\n",
    "xRK4_err = []\n",
    "for i in np.arange(len(dt)):\n",
    "    tmp = evolve_RK2(x0, tau, dt[i], N_steps[i])\n",
    "    tRK2_err.append(tmp[0])\n",
    "    xRK2_err.append(tmp[1])\n",
    "    tmp = evolve_RK4(x0, tau, dt[i], N_steps[i])\n",
    "    tRK4_err.append(tmp[0])\n",
    "    xRK4_err.append(tmp[1])\n",
    "\n",
    "# Computation of the error for the different dt by taking the exact solution minus RK's integration\n",
    "\n",
    "error_RK2 = []\n",
    "error_RK4 = []\n",
    "for i in np.arange(len(dt)):\n",
    "    error_tmp1 = np.zeros(N_steps[i]+1)\n",
    "    error_tmp2 = np.zeros(N_steps[i]+1)\n",
    "    for j in np.arange(N_steps[i]+1):\n",
    "        error_tmp1[j] = radioactive_decay(x0, tRK2_err[i][j], tau) - xRK2_err[i][j]\n",
    "        error_tmp2[j] = radioactive_decay(x0, tRK4_err[i][j], tau) - xRK4_err[i][j]\n",
    "    error_RK2.append(error_tmp1)\n",
    "    error_RK4.append(error_tmp2)\n",
    "  \n",
    "# Plot\n",
    "\n",
    "fig = plt.figure(figsize=(12, 8))\n",
    "ax = fig.add_subplot(1,1,1)\n",
    "\n",
    "for i in np.arange(len(dt)):\n",
    "    line, = ax.plot(tRK2_err[i], np.abs(error_RK2[i]), '-', label=\"RK2, dt = %.2f\" %dt[i])\n",
    "    ax.plot(tRK4_err[i], np.abs(error_RK4[i]), '--', c=line.get_color(), label=\"RK4, dt = %.2f\" %dt[i])\n",
    "\n",
    "ax.set_ylabel(\"Error\")\n",
    "ax.set_xlabel(\"Time\")\n",
    "ax.set_yscale('log')\n",
    "ax.legend(loc=0, prop={'size':10})"
   ]
  },
  {
   "cell_type": "markdown",
   "metadata": {},
   "source": [
    "The RK4 with a time step of 0.8 performs better than a RK2 with a time step of 0.2, so it is about 4 times more accurate."
   ]
  },
  {
   "cell_type": "markdown",
   "metadata": {},
   "source": [
    "Now let us compare the 4 methods:"
   ]
  },
  {
   "cell_type": "code",
   "execution_count": null,
   "metadata": {},
   "outputs": [],
   "source": [
    "dt = 0.8\n",
    "N_steps = int(Time_max/float(dt))\n",
    "# Computation of the Euler's integration\n",
    "te, xe = evolve_Euler(x0, tau, dt, N_steps)\n",
    "# Computation of the Heun's integration\n",
    "th, xh = evolve_Heun(x0, tau, dt, N_steps)\n",
    "# Computation of the RK2 integration\n",
    "tRK2, xRK2 = evolve_RK2(x0, tau, dt, N_steps)\n",
    "# Computation of the RK4 integration\n",
    "tRK4, xRK4 = evolve_RK4(x0, tau, dt, N_steps)\n",
    "\n",
    "fig = plt.figure(figsize=(12, 8))\n",
    "ax = fig.add_subplot(1,1,1)\n",
    "\n",
    "ax.plot(time, exact_solution, '-', label=\"Exact solution\")\n",
    "ax.plot(te, xe, '-o', label=\"Euler, dt = %.2f\" %dt)\n",
    "ax.plot(th, xh, '-o', label=\"Heun, dt = %.2f\" %dt)\n",
    "ax.plot(tRK2, xRK2, '-o', label=\"RK2, dt = %.2f\" %dt)\n",
    "ax.plot(tRK4, xRK4, '-o', label=\"RK4, dt = %.2f\" %dt)\n",
    "\n",
    "ax.set_ylabel(\"Number of nucleii\")\n",
    "ax.set_xlabel(\"Time\")\n",
    "ax.legend(loc=0, prop={'size':10})"
   ]
  }
 ],
 "metadata": {
  "kernelspec": {
   "display_name": "Python 2",
   "language": "python",
   "name": "python2"
  },
  "language_info": {
   "codemirror_mode": {
    "name": "ipython",
    "version": 2
   },
   "file_extension": ".py",
   "mimetype": "text/x-python",
   "name": "python",
   "nbconvert_exporter": "python",
   "pygments_lexer": "ipython2",
   "version": "2.7.16"
  }
 },
 "nbformat": 4,
 "nbformat_minor": 2
}