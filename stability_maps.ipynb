{
 "metadata": {
  "language_info": {
   "codemirror_mode": {
    "name": "ipython",
    "version": 3
   },
   "file_extension": ".py",
   "mimetype": "text/x-python",
   "name": "python",
   "nbconvert_exporter": "python",
   "pygments_lexer": "ipython3",
   "version": "3.7.9"
  },
  "orig_nbformat": 2,
  "kernelspec": {
   "name": "python379jvsc74a57bd077308f10e778eec9a13a21206849a589a8c13410aaae2405e5051cd249c67e86",
   "display_name": "Python 3.7.9 64-bit ('base': conda)"
  }
 },
 "nbformat": 4,
 "nbformat_minor": 2,
 "cells": [
  {
   "source": [
    "# Stability maps in Rebound\n",
    "\n",
    "In what follows, I try to make a stability map for HD 202206 system using `rebound`. I, earlier, ran a MCMC analysis of the system -- the initial parameter of this system is taken from this analysis. This work is largely following the tutorial in [this](https://rebound.readthedocs.io/en/latest/ipython_examples/Megno/) documentation of `rebound`. The chaos indicator used here is MEGNO (Mean Exponential Growth of Nearby Orbits), with the symplectic integrator WHFast (Rein and Tamayo 2015)."
   ],
   "cell_type": "markdown",
   "metadata": {}
  },
  {
   "cell_type": "code",
   "execution_count": 1,
   "metadata": {},
   "outputs": [],
   "source": [
    "import numpy as np\n",
    "import matplotlib.pyplot as plt\n",
    "import math\n",
    "import rebound"
   ]
  },
  {
   "cell_type": "code",
   "execution_count": null,
   "metadata": {},
   "outputs": [],
   "source": [
    "# Planetary and stellar parameters\n",
    "NBpl = int(2) \n",
    "mstar = 0.9985\n",
    "mEarth = 3.986004e14 / 1.3271244e20 # mEarth expressed in mSun\n",
    "\n",
    "a_b = 0.7930\n",
    "lambda_b = 2.65316226  # REBOUND uses angles in radians, in [-pi;pi] \n",
    "e_b = 0.42916\n",
    "w_b = 2.80615782 # REBOUND uses angles in radians, in [-pi;pi] \n",
    "i_b = 0.0\n",
    "O_b = 0.0\n",
    "m_b = 0.015182 # In mSun\n",
    "\n",
    "a_c =  2.3962\n",
    "lambda_c = -3.05781685\n",
    "e_c = 0.1596\n",
    "w_c = 1.43466065 \n",
    "i_c = 0.0 \n",
    "O_c = 0.0 \n",
    "m_c = 0.002220 # In mSun"
   ]
  }
 ]
}